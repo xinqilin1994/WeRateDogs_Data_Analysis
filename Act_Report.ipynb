{
 "cells": [
  {
   "cell_type": "markdown",
   "metadata": {},
   "source": [
    "# WeRateDogs Twitter Data Analysis & Viz\n",
    "## Table of Contents\n",
    "<ul>\n",
    "<li><a href=\"#intro\">Introduction</a></li>\n",
    "<li><a href=\"#insights\">Insights</a></li>\n",
    "<li><a href=\"#improve\">Conclusions and Things to Improvement</a></li>\n",
    "</ul>"
   ]
  },
  {
   "cell_type": "markdown",
   "metadata": {},
   "source": [
    "<a id='intro'></a>\n",
    "## Introduction\n",
    "\n",
    "In this data analysis & visualization project, I continued to deal with the dataset I wrangled in the previous part, which is WeRateDog Twitter data. [WeRateDogs](http://twitter.com/dog_rates) is a Twitter account that rates people's dogs with a humorous comment about the dog. This analysis is based on a master WeRateDogs dataset that has been assessed and cleaned to the best of my ability. \n",
    "I mainly used seaborn and matplotlib modules for my analysis, and it covered one-variable distribution, two-variable correlation etc.\n",
    "![alt text](dog.jpg \"Title\")\n",
    "<center><a href=\"https://www.nytimes.com/2019/06/17/science/dogs-eyebrows-evolution.html\">from NYTimes</a><br></center>"
   ]
  },
  {
   "cell_type": "markdown",
   "metadata": {},
   "source": [
    "<a id='intro'></a>\n",
    "## Insights"
   ]
  },
  {
   "cell_type": "markdown",
   "metadata": {},
   "source": [
    "#### What's the distribution of ratings?¶\n",
    "From the boxplot, we see that 50% of the people tend to give ratings between 1.0 and 1.2.\n",
    "<img src=\"box.png\"/>"
   ]
  },
  {
   "cell_type": "markdown",
   "metadata": {},
   "source": [
    "#### What source do people come from the most?\n",
    "People tend to check out WeRateDogs Twitter from there iPhones.\n",
    "![alt text](Source.PNG)"
   ]
  },
  {
   "cell_type": "markdown",
   "metadata": {},
   "source": [
    "#### Is there a correlation between retweet_count and ratings?\n",
    "When ratings go up, retweet_count tend to be higher.\n",
    "![alt text](retweet_ratings.png)"
   ]
  },
  {
   "cell_type": "markdown",
   "metadata": {},
   "source": [
    "#### Is there a correlation between favorite_count and ratings?¶\n",
    "As the ratings go up, there are more favorite_count too.\n",
    "![alt text](favorite_rating.png)"
   ]
  },
  {
   "cell_type": "markdown",
   "metadata": {},
   "source": [
    "<a id='improve'></a>\n",
    "## Conclusions and Things to Improvement\n",
    "From the visualizations, we can clearly see there's a positive correlation between ratings and retweet_count/favorite_count, which is not surprising. And people seem to check out this Twitter account more from their IPhones. And, of course, people are generous about rating those very cute dogs, with 75% of the ratings over 1.0.\n",
    "\n",
    "Certainly there are more to explore with this data. For example, the stage of the dogs clearly has a lot missing. I haven't got a chance to explore the prediction model provided, and there are other useful columns I haven't analyzed yet."
   ]
  },
  {
   "cell_type": "code",
   "execution_count": 1,
   "metadata": {},
   "outputs": [
    {
     "name": "stdout",
     "output_type": "stream",
     "text": [
      "[NbConvertApp] Converting notebook Act_Report.ipynb to html\n",
      "[NbConvertApp] Writing 279031 bytes to Act_Report.html\n"
     ]
    }
   ],
   "source": [
    "!jupyter nbconvert --to html Act_Report.ipynb"
   ]
  }
 ],
 "metadata": {
  "kernelspec": {
   "display_name": "Python 3",
   "language": "python",
   "name": "python3"
  },
  "language_info": {
   "codemirror_mode": {
    "name": "ipython",
    "version": 3
   },
   "file_extension": ".py",
   "mimetype": "text/x-python",
   "name": "python",
   "nbconvert_exporter": "python",
   "pygments_lexer": "ipython3",
   "version": "3.6.3"
  }
 },
 "nbformat": 4,
 "nbformat_minor": 2
}
